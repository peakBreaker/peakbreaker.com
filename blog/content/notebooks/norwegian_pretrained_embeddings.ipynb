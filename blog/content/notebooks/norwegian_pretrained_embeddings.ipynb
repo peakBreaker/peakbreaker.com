{
 "cells": [
  {
   "cell_type": "markdown",
   "metadata": {},
   "source": [
    "---\n",
    "title: \"Pretrained Norwegian nlp embedding models\"\n",
    "date: 2020-11-14\n",
    "description: getting dirty with fasttext and w2v\n",
    "titleWrap: wrap\n",
    "enableSidebar: false\n",
    "enableToc: false\n",
    "---"
   ]
  },
  {
   "cell_type": "markdown",
   "metadata": {},
   "source": [
    "## FastText\n",
    "\n",
    "**Download resources and deps**\n",
    "\n",
    "First download the pretrained fasttext model from [fasttext](https://fasttext.cc/docs/en/crawl-vectors.html) in the appropriate language for our experiment. In this case Norwegian"
   ]
  },
  {
   "cell_type": "code",
   "execution_count": 1,
   "metadata": {},
   "outputs": [],
   "source": [
    "import warnings\n",
    "warnings.filterwarnings(\"ignore\", category=DeprecationWarning) "
   ]
  },
  {
   "cell_type": "code",
   "execution_count": 2,
   "metadata": {},
   "outputs": [],
   "source": [
    "! pip install fasttext &> /dev/null"
   ]
  },
  {
   "cell_type": "code",
   "execution_count": 3,
   "metadata": {},
   "outputs": [],
   "source": [
    "norwegian_model_f = 'cc.no.300.bin'"
   ]
  },
  {
   "cell_type": "code",
   "execution_count": null,
   "metadata": {},
   "outputs": [],
   "source": [
    "import gzip\n",
    "import shutil\n",
    "with gzip.open(norwegian_model_f+'.gz', 'rb') as f_in:\n",
    "    with open(norwegian_model_f, 'wb') as f_out:\n",
    "        shutil.copyfileobj(f_in, f_out)"
   ]
  },
  {
   "cell_type": "code",
   "execution_count": 4,
   "metadata": {},
   "outputs": [
    {
     "name": "stderr",
     "output_type": "stream",
     "text": [
      "Warning : `load_model` does not return WordVectorModel or SupervisedModel any more, but a `FastText` object which is very similar.\n"
     ]
    }
   ],
   "source": [
    "import fasttext\n",
    "ft = fasttext.load_model(norwegian_model_f)"
   ]
  },
  {
   "cell_type": "code",
   "execution_count": 5,
   "metadata": {},
   "outputs": [
    {
     "data": {
      "text/plain": [
       "[(0.7269838452339172, 'rådgiver'),\n",
       " (0.6610698699951172, 'IT-rådgiver'),\n",
       " (0.629156231880188, 'prosjektleder'),\n",
       " (0.6253646016120911, 'VVS-rådgiver'),\n",
       " (0.6252682209014893, '-rådgiver'),\n",
       " (0.6225616931915283, 'HMSrådgiver')]"
      ]
     },
     "execution_count": 5,
     "metadata": {},
     "output_type": "execute_result"
    }
   ],
   "source": [
    "[n for n in ft.get_nearest_neighbors('konsulent', k=100) if 'konsulent' not in n[1].lower()]"
   ]
  },
  {
   "cell_type": "code",
   "execution_count": 6,
   "metadata": {},
   "outputs": [
    {
     "name": "stdout",
     "output_type": "stream",
     "text": [
      "Help on method get_nearest_neighbors in module fasttext.FastText:\n",
      "\n",
      "get_nearest_neighbors(word, k=10, on_unicode_error='strict') method of fasttext.FastText._FastText instance\n",
      "\n"
     ]
    }
   ],
   "source": [
    "help(ft.get_nearest_neighbors)"
   ]
  },
  {
   "cell_type": "code",
   "execution_count": 7,
   "metadata": {},
   "outputs": [],
   "source": [
    "del(ft)"
   ]
  },
  {
   "cell_type": "markdown",
   "metadata": {},
   "source": [
    "## Word2Vec\n",
    "\n",
    "First download a pretrained norwegian model from [github](https://github.com/Kyubyong/wordvectors) and move it to the repo"
   ]
  },
  {
   "cell_type": "code",
   "execution_count": 8,
   "metadata": {},
   "outputs": [],
   "source": [
    "! mkdir -p w2v"
   ]
  },
  {
   "cell_type": "code",
   "execution_count": 9,
   "metadata": {},
   "outputs": [
    {
     "name": "stdout",
     "output_type": "stream",
     "text": [
      "mv: cannot stat '/home/peakbreaker/Downloads/no.zip': No such file or directory\r\n"
     ]
    }
   ],
   "source": [
    "! mv /home/peakbreaker/Downloads/no.zip ./w2v/"
   ]
  },
  {
   "cell_type": "code",
   "execution_count": 10,
   "metadata": {},
   "outputs": [],
   "source": [
    "! pip install gensim &> /dev/null"
   ]
  },
  {
   "cell_type": "code",
   "execution_count": 11,
   "metadata": {},
   "outputs": [],
   "source": [
    "from zipfile import ZipFile\n",
    "norwegian_w2v_model_f = 'w2v/no.zip'\n",
    "ZipFile(norwegian_w2v_model_f).extractall('w2v')"
   ]
  },
  {
   "cell_type": "code",
   "execution_count": 12,
   "metadata": {},
   "outputs": [],
   "source": [
    "import gensim"
   ]
  },
  {
   "cell_type": "code",
   "execution_count": 13,
   "metadata": {},
   "outputs": [],
   "source": [
    "model = gensim.models.Word2Vec.load('w2v/no.bin')"
   ]
  },
  {
   "cell_type": "code",
   "execution_count": 14,
   "metadata": {},
   "outputs": [
    {
     "data": {
      "text/plain": [
       "[('radioprogrammet', 0.5731750726699829),\n",
       " ('sommeråpent', 0.5661594271659851),\n",
       " ('nitimen', 0.5642672777175903),\n",
       " ('talkshowet', 0.5346325635910034),\n",
       " ('tv-programmet', 0.5236023664474487),\n",
       " ('ylvis', 0.5019408464431763),\n",
       " ('radioteatret', 0.49859005212783813),\n",
       " ('dagsrevyen', 0.4889247417449951),\n",
       " ('barne-tv', 0.48854684829711914),\n",
       " ('radioteateret', 0.48758113384246826)]"
      ]
     },
     "execution_count": 14,
     "metadata": {},
     "output_type": "execute_result"
    }
   ],
   "source": [
    "model.most_similar('hallo')"
   ]
  },
  {
   "cell_type": "code",
   "execution_count": 15,
   "metadata": {},
   "outputs": [
    {
     "data": {
      "text/plain": [
       "[('europa', 0.6526151895523071),\n",
       " ('verdenen', 0.5795935392379761),\n",
       " ('kloden', 0.554469883441925),\n",
       " ('landet', 0.5417060852050781),\n",
       " ('norden', 0.4880366921424866),\n",
       " ('vest-europa', 0.4815964996814728),\n",
       " ('latin-amerika', 0.46273982524871826),\n",
       " ('universet', 0.45110243558883667),\n",
       " ('samfunnet', 0.4509172737598419),\n",
       " ('afrika', 0.45039165019989014)]"
      ]
     },
     "execution_count": 15,
     "metadata": {},
     "output_type": "execute_result"
    }
   ],
   "source": [
    "model.most_similar('verden')"
   ]
  },
  {
   "cell_type": "code",
   "execution_count": 16,
   "metadata": {},
   "outputs": [
    {
     "data": {
      "text/plain": [
       "[('monark', 0.9270060658454895),\n",
       " ('dronning', 0.8959850668907166),\n",
       " ('fyrste', 0.8814278244972229),\n",
       " ('overkonge', 0.8673690557479858),\n",
       " ('tronarving', 0.8655897378921509),\n",
       " ('regent', 0.8644863367080688),\n",
       " ('hersker', 0.8569005131721497),\n",
       " ('farao', 0.8543179035186768),\n",
       " ('prinsesse', 0.8368269801139832),\n",
       " ('herskeren', 0.8366155624389648)]"
      ]
     },
     "execution_count": 16,
     "metadata": {},
     "output_type": "execute_result"
    }
   ],
   "source": [
    "model.most_similar_cosmul(positive=['konge', 'kvinne'], negative=['mann'])"
   ]
  }
 ],
 "metadata": {
  "kernelspec": {
   "display_name": "Python 3",
   "language": "python",
   "name": "python3"
  },
  "language_info": {
   "codemirror_mode": {
    "name": "ipython",
    "version": 3
   },
   "file_extension": ".py",
   "mimetype": "text/x-python",
   "name": "python",
   "nbconvert_exporter": "python",
   "pygments_lexer": "ipython3",
   "version": "3.6.11"
  }
 },
 "nbformat": 4,
 "nbformat_minor": 4
}
